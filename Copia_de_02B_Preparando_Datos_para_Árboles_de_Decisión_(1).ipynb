{
  "nbformat": 4,
  "nbformat_minor": 0,
  "metadata": {
    "colab": {
      "name": "Copia de 02B_Preparando_Datos_para_Árboles_de_Decisión (1).ipynb",
      "provenance": [],
      "include_colab_link": true
    },
    "kernelspec": {
      "name": "python3",
      "display_name": "Python 3"
    }
  },
  "cells": [
    {
      "cell_type": "markdown",
      "metadata": {
        "id": "view-in-github",
        "colab_type": "text"
      },
      "source": [
        "<a href=\"https://colab.research.google.com/github/mj892021/pythonProject3/blob/master/Copia_de_02B_Preparando_Datos_para_%C3%81rboles_de_Decisi%C3%B3n_(1).ipynb\" target=\"_parent\"><img src=\"https://colab.research.google.com/assets/colab-badge.svg\" alt=\"Open In Colab\"/></a>"
      ]
    },
    {
      "cell_type": "markdown",
      "metadata": {
        "id": "R53FGLN8jo1L"
      },
      "source": [
        "# 01 INTRO: Árboles de Decisión\n",
        "Explicación de cómo preparar los datos para un modelo de árboles de decisión.\n",
        "\n",
        "Notebook por [Javier Blanco Cordero](https://www.linkedin.com/in/javier-blanco-cordero-71373656/).\n",
        "\n",
        "### Enlaces de interés\n",
        "*   [Slides de presentación](https://docs.google.com/presentation/d/1kiEbdMHy7Ji02SlTxzq913bZ-rcQWn00Td0K_MNVXEk/edit?usp=sharing)\n",
        "*   [Enlace a este notebook en Colab](https://colab.research.google.com/github/JotaBlanco/TheValley/blob/main/Arboles/Clase_02_Arboles/02_B_Preparando_Datos_para_%C3%81rboles_de_Decisi%C3%B3n.ipynb)\n",
        "\n",
        "\n"
      ]
    },
    {
      "cell_type": "markdown",
      "metadata": {
        "id": "LSuEDXhPLi8u"
      },
      "source": [
        "## 0101 Qué es un árbol de decisión?\n",
        "Un tipo de algoritmo de aprendizaje supervisado que se basa en realizar particiones a partir de distintos niveles de las variables disponibles.\n",
        "\n",
        "Los árboles de decisión de scikit learn requiren:\n",
        "\n",
        "\n",
        "*   Que no haya nulos entre las variables\n",
        "*   Que todas las variables sean numéricas (hay que dumificar las categóricas)\n",
        "\n"
      ]
    },
    {
      "cell_type": "markdown",
      "metadata": {
        "id": "cnHRaho3rsXS"
      },
      "source": [
        "## 0102 Import\n",
        "Importamos todas las librerías necesarias para este análisis ([¿No sabes lo que es una librería de Python?](https://www.quora.com/What-is-a-Python-library-and-what-can-I-use-it-for)): pandas, numpy, seaborn, matplotlib."
      ]
    },
    {
      "cell_type": "code",
      "metadata": {
        "id": "4be6xiUqjPHI"
      },
      "source": [
        "import pandas as pd\n",
        "import numpy as np\n",
        "import matplotlib.pyplot as plt\n",
        "import seaborn as sns\n",
        "import graphviz \n",
        "from sklearn import tree\n",
        "from sklearn.metrics import accuracy_score\n",
        "from sklearn.metrics import mean_squared_error"
      ],
      "execution_count": null,
      "outputs": []
    },
    {
      "cell_type": "markdown",
      "metadata": {
        "id": "AblkT14d4Gvt"
      },
      "source": [
        "## 0103 Carga el dataset: notas alumnos portugueses\n",
        "Para probar a transformar datos para entrenar árboles de decisión el dataset sobre las notas finales de ciertos estudiantes portugueses de dos instituos en función de ciertas características socio-demográficas. El dataset original se puede encontrr en Kaggle ([aquí](https://www.kaggle.com/dipam7/student-grade-prediction)).\n",
        "\n",
        "Esta vez no accederemos a la versión que yo había limpiado previamente, sino al dataset en su formato original, que podéis encontrar listo para importar en mi github: 'https://raw.githubusercontent.com/JotaBlanco/TheValley/main/Data/Notas_Estudiantes.csv'. \n",
        "\n",
        "Importa este dataset en un dataframe llamado **df**."
      ]
    },
    {
      "cell_type": "code",
      "metadata": {
        "id": "GMZACcIXOclu"
      },
      "source": [
        "# Url archivo raw\n",
        "url =  'https://raw.githubusercontent.com/JotaBlanco/TheValley/main/Data/Notas_Estudiantes.csv'\n",
        "\n",
        "# Importa csv\n",
        "df = pd.read_csv(url)\n",
        "\n",
        "# Visualización primeras filas\n",
        "df.head()"
      ],
      "execution_count": null,
      "outputs": []
    },
    {
      "cell_type": "markdown",
      "metadata": {
        "id": "KBOQJ0AjdYrM"
      },
      "source": [
        "# 02 EDA\n",
        "Realizaremos un pequeño análisis exploratorio visual para familiarizarnos con el dataset. \n",
        "\n",
        "Recuerda que puedes encontrar mis clases sobre análisis exploratorio [aquí](https://github.com/JotaBlanco/TheValley/tree/main/EDA/)."
      ]
    },
    {
      "cell_type": "code",
      "metadata": {
        "id": "qGrwhGyaj0-a"
      },
      "source": [
        "df.info()"
      ],
      "execution_count": null,
      "outputs": []
    },
    {
      "cell_type": "markdown",
      "metadata": {
        "id": "aw4NKEGOePiM"
      },
      "source": [
        "## 0201 Ensuciamos con nulos\n",
        "Para probar cómo arreglar los nulos, vamos a meter primero ciertos nulos en nuestro dataframe."
      ]
    },
    {
      "cell_type": "code",
      "metadata": {
        "id": "4HMrUT2Kekhe"
      },
      "source": [
        "df.columns[:-3]"
      ],
      "execution_count": null,
      "outputs": []
    },
    {
      "cell_type": "code",
      "metadata": {
        "id": "sXkPtfTNecxg"
      },
      "source": [
        "df_2 = df.copy(deep=True)\n",
        "\n",
        "prop_nulos = 0.05\n",
        "for col in df.columns[:-3]:\n",
        "  indice_para_nulos = df_2.sample(frac=prop_nulos, replace=False).index\n",
        "  df_2.loc[indice_para_nulos,col] = np.NaN\n",
        "\n",
        "df_2.head(10)"
      ],
      "execution_count": null,
      "outputs": []
    },
    {
      "cell_type": "code",
      "metadata": {
        "id": "8LoZpl8rjWEX"
      },
      "source": [
        "df_2.info()"
      ],
      "execution_count": null,
      "outputs": []
    },
    {
      "cell_type": "markdown",
      "metadata": {
        "id": "4errfzSQfy81"
      },
      "source": [
        "## 0202 Continuamos con el EDA"
      ]
    },
    {
      "cell_type": "code",
      "metadata": {
        "id": "bhkosbpygCzB"
      },
      "source": [
        "df_2.describe()"
      ],
      "execution_count": null,
      "outputs": []
    },
    {
      "cell_type": "code",
      "metadata": {
        "id": "YUz-qSwBjaEW"
      },
      "source": [
        "# Visualización coeficientes Pearson\n",
        "plt.figure(figsize=(12,9))\n",
        "sns.heatmap(np.round(df_2.corr(),2), \n",
        "            vmin=-1, vmax=1, \n",
        "            annot=True, cmap=\"coolwarm\")\n",
        "plt.show()"
      ],
      "execution_count": null,
      "outputs": []
    },
    {
      "cell_type": "markdown",
      "metadata": {
        "id": "lcnJKyElO8FU"
      },
      "source": [
        "# 03 Preparación de datos para árbol de decisión\n",
        "Los árboles de decisión de scikit learn requiren:\n",
        "\n",
        "*   Que no haya nulos entre las variables\n",
        "*   Que todas las variables sean numéricas (hay que dumificar las categóricas)\n"
      ]
    },
    {
      "cell_type": "markdown",
      "metadata": {
        "id": "bu-dRbavgWus"
      },
      "source": [
        "## 0301 Inicialización de árbol\n",
        "Recordemos cómo entrenar un árbol cuando las variables son numéricas (G2 y G3)."
      ]
    },
    {
      "cell_type": "code",
      "metadata": {
        "id": "ZsyQLVEzhEDs"
      },
      "source": [
        "X = df_2[['G1','G2']]\n",
        "y = df_2['G3']\n",
        "\n",
        "display(len(X))\n",
        "display(X.isna().sum())"
      ],
      "execution_count": null,
      "outputs": []
    },
    {
      "cell_type": "code",
      "metadata": {
        "id": "BHJes7PhgoPM"
      },
      "source": [
        "# Inicializo un árbol\n",
        "arbolito = tree.DecisionTreeRegressor(max_depth=3)\n",
        "# Entreno el árbol\n",
        "arbolito = arbolito.fit(X=X, y=y)\n",
        "# Uso el árbol para predecir y\n",
        "pred_arbolito = arbolito.predict(X)\n",
        "# Cómo de buena es la predicción?\n",
        "mean_squared_error(y, pred_arbolito, squared=False)"
      ],
      "execution_count": null,
      "outputs": []
    },
    {
      "cell_type": "code",
      "metadata": {
        "id": "2iv_lqrXl766"
      },
      "source": [
        "# Con el método export_text en un print()\n",
        "esquema_print = tree.export_text(arbolito, \n",
        "                                 feature_names=list(X.columns))\n",
        "print(esquema_print)"
      ],
      "execution_count": null,
      "outputs": []
    },
    {
      "cell_type": "markdown",
      "metadata": {
        "id": "p0y__k4SiMS7"
      },
      "source": [
        "## 0301 Limpieza de nulos"
      ]
    },
    {
      "cell_type": "markdown",
      "metadata": {
        "id": "AF5pO7R2klFx"
      },
      "source": [
        "### 030101 Qué pasa cuando hay nulos en los datos"
      ]
    },
    {
      "cell_type": "code",
      "metadata": {
        "id": "56V51DTZiDoh"
      },
      "source": [
        "df_2[['absences','G1', 'G2', 'G3']].head()"
      ],
      "execution_count": null,
      "outputs": []
    },
    {
      "cell_type": "code",
      "metadata": {
        "id": "KahbXvIXgoYR"
      },
      "source": [
        "X = df_2[['absences','G1','G2']]\n",
        "y = df_2['G3']\n",
        "\n",
        "display(len(X))\n",
        "display(X.isna().sum())"
      ],
      "execution_count": null,
      "outputs": []
    },
    {
      "cell_type": "code",
      "metadata": {
        "id": "y0Fylsb1kwZL"
      },
      "source": [
        "# Inicializo un árbol\n",
        "arbolito = tree.DecisionTreeRegressor(max_depth=3)\n",
        "# Entreno el árbol\n",
        "arbolito = arbolito.fit(X=X, y=y)\n",
        "# Uso el árbol para predecir y\n",
        "pred_arbolito = arbolito.predict(X)\n",
        "# Cómo de buena es la predicción?\n",
        "mean_squared_error(y, pred_arbolito, squared=False)"
      ],
      "execution_count": null,
      "outputs": []
    },
    {
      "cell_type": "markdown",
      "metadata": {
        "id": "V-klD66dlkHl"
      },
      "source": [
        "### 030202 Eliminando nulos\n",
        "Con el método .[dropna()](https://pandas.pydata.org/pandas-docs/stable/reference/api/pandas.DataFrame.dropna.html)."
      ]
    },
    {
      "cell_type": "code",
      "metadata": {
        "id": "Y0lN_CPylyAb"
      },
      "source": [
        "X = df_2.dropna(subset=['absences'])[['absences','G1','G2']]\n",
        "y = df_2.dropna(subset=['absences'])['G3']\n",
        "\n",
        "display(len(X))\n",
        "display(X.isna().sum())"
      ],
      "execution_count": null,
      "outputs": []
    },
    {
      "cell_type": "code",
      "metadata": {
        "id": "W_SiS48vm57D"
      },
      "source": [
        "# Inicializo un árbol\n",
        "arbolito = tree.DecisionTreeRegressor(max_depth=3)\n",
        "# Entreno el árbol\n",
        "arbolito = arbolito.fit(X=X, y=y)\n",
        "# Uso el árbol para predecir y\n",
        "pred_arbolito = arbolito.predict(X)\n",
        "# Cómo de buena es la predicción?\n",
        "mean_squared_error(y, pred_arbolito, squared=False)"
      ],
      "execution_count": null,
      "outputs": []
    },
    {
      "cell_type": "code",
      "metadata": {
        "id": "HliRVIu-m5-l"
      },
      "source": [
        "# Con el método export_text en un print()\n",
        "esquema_print = tree.export_text(arbolito, \n",
        "                                 feature_names=list(X.columns))\n",
        "print(esquema_print)"
      ],
      "execution_count": null,
      "outputs": []
    },
    {
      "cell_type": "markdown",
      "metadata": {
        "id": "QyF4CEk-nfIk"
      },
      "source": [
        "**Problemas de este enfoque**\n",
        "\n",
        "Eliminando filas tenemos varios problemas: \n",
        "*   Perdemos información al perder filas\n",
        "\n",
        "Sí, nuestra variable estaba a nulo en la filas que hemos eliminado, pero quizás había información útil en el resto de variables que también nos estamos perdiendo.\n",
        "*   No hemos resuelto el problema de los nulos\n",
        "\n",
        "\n",
        "Cuando queramos hacer predicciones sobre datos nuevos que contengan nulos tendremos igualmente que desarrollar un método para tratarlos si queremos producir una predicción.\n",
        "\n"
      ]
    },
    {
      "cell_type": "markdown",
      "metadata": {
        "id": "tRGsnOH1lI9s"
      },
      "source": [
        "### 030103 Rellenando nulos\n",
        "Usando el método .[fillna()](https://pandas.pydata.org/pandas-docs/stable/reference/api/pandas.DataFrame.fillna.html)."
      ]
    },
    {
      "cell_type": "markdown",
      "metadata": {
        "id": "hIAwE7W5qGhy"
      },
      "source": [
        "#### Rellenando con 0s"
      ]
    },
    {
      "cell_type": "code",
      "metadata": {
        "id": "sXLw4ruqleKN"
      },
      "source": [
        "X = df_2.loc[:,['absences','G1','G2']]\n",
        "X['absences'] = X['absences'].fillna(0)\n",
        "y = df_2['G3']\n",
        "\n",
        "display(len(X))\n",
        "display(X.isna().sum())"
      ],
      "execution_count": null,
      "outputs": []
    },
    {
      "cell_type": "code",
      "metadata": {
        "id": "BQ8EongZpVYU"
      },
      "source": [
        "# Inicializo un árbol\n",
        "arbolito = tree.DecisionTreeRegressor(max_depth=3)\n",
        "# Entreno el árbol\n",
        "arbolito = arbolito.fit(X=X, y=y)\n",
        "# Uso el árbol para predecir y\n",
        "pred_arbolito = arbolito.predict(X)\n",
        "# Cómo de buena es la predicción?\n",
        "mean_squared_error(y, pred_arbolito, squared=False)"
      ],
      "execution_count": null,
      "outputs": []
    },
    {
      "cell_type": "code",
      "metadata": {
        "id": "yEjAq2bcpW2a"
      },
      "source": [
        "# Con el método export_text en un print()\n",
        "esquema_print = tree.export_text(arbolito, \n",
        "                                 feature_names=list(X.columns))\n",
        "print(esquema_print)"
      ],
      "execution_count": null,
      "outputs": []
    },
    {
      "cell_type": "markdown",
      "metadata": {
        "id": "vvOmcaHjqN8r"
      },
      "source": [
        "#### Rellenando con mediana"
      ]
    },
    {
      "cell_type": "code",
      "metadata": {
        "id": "sY5acK5KqUML"
      },
      "source": [
        "X = df_2.loc[:,['absences','G1','G2']]\n",
        "X['absences'] = X['absences'].fillna(X['absences'].median())\n",
        "y = df_2['G3']\n",
        "\n",
        "display(len(X))\n",
        "display(X.isna().sum())"
      ],
      "execution_count": null,
      "outputs": []
    },
    {
      "cell_type": "code",
      "metadata": {
        "id": "Qgzcmb11qUPU"
      },
      "source": [
        "# Inicializo un árbol\n",
        "arbolito = tree.DecisionTreeRegressor(max_depth=3)\n",
        "# Entreno el árbol\n",
        "arbolito = arbolito.fit(X=X, y=y)\n",
        "# Uso el árbol para predecir y\n",
        "pred_arbolito = arbolito.predict(X)\n",
        "# Cómo de buena es la predicción?\n",
        "mean_squared_error(y, pred_arbolito, squared=False)"
      ],
      "execution_count": null,
      "outputs": []
    },
    {
      "cell_type": "code",
      "metadata": {
        "id": "NYVBro4-qUSm"
      },
      "source": [
        "# Con el método export_text en un print()\n",
        "esquema_print = tree.export_text(arbolito, \n",
        "                                 feature_names=list(X.columns))\n",
        "print(esquema_print)"
      ],
      "execution_count": null,
      "outputs": []
    },
    {
      "cell_type": "markdown",
      "metadata": {
        "id": "sW3n4ad6r77q"
      },
      "source": [
        "#### Reflexión sobre estos dos últimos árboles\n",
        "Los dos son iguales! \n",
        "\n",
        "Pero el método de relleno de nulos para \"absences\" provocaba que esos 20 alumnos acabaran a un lado o a otro de la segunda partición en la rama G2<=10.5.\n",
        "\n",
        "El método de relleno va a influír en dónde caen las filas con nulos cuando hay una partición, por eso es importante y deberá seguir una lógica lo más realista posible."
      ]
    },
    {
      "cell_type": "markdown",
      "metadata": {
        "id": "VI-afAaGsmsp"
      },
      "source": [
        "### 030104 EJERCICIO\n",
        "Queremos hacer un árbol que prediga la nota 'G3' con las variables ['age', 'Medu', 'Fedu', 'traveltime', 'studytime', 'failures', 'famrel', 'freetime', 'goout', 'Dalc', 'Walc', 'health', 'absences'].\n",
        "\n",
        "Estas variables tienen nulos. Haz 3 modelos:\n",
        "\n",
        "\n",
        "1.   Un modelo eliminando los nulos\n",
        "2.   Un modelo rellenando los nulos con 0s\n",
        "3.   Un modelo rellenando los nulos con un método un poco más avanzado, de tu elección.\n",
        "\n"
      ]
    },
    {
      "cell_type": "code",
      "metadata": {
        "id": "NgG5FjRK2NTp"
      },
      "source": [
        "df_2[['age', 'Medu', 'Fedu', 'traveltime', 'studytime', 'failures', 'famrel', 'freetime', 'goout', 'Dalc', 'Walc', 'health', 'absences']].head()"
      ],
      "execution_count": null,
      "outputs": []
    },
    {
      "cell_type": "markdown",
      "metadata": {
        "id": "LFPk76RTtt9T"
      },
      "source": [
        "#### Modelo 1\n",
        "Eliminando los nulos"
      ]
    },
    {
      "cell_type": "code",
      "metadata": {
        "id": "aBaMBRvrst-d"
      },
      "source": [
        "# Genera las variables X e Y\n",
        "cols =  ['age', 'Medu', 'Fedu', 'traveltime', 'studytime', 'failures', 'famrel', \n",
        "         'freetime', 'goout', 'Dalc', 'Walc', 'health', 'absences']\n",
        "\n",
        "X = df_2.dropna(subset=cols)[cols]\n",
        "y = df_2.dropna(subset=cols)['G3']\n",
        "\n",
        "# Visualiza la longitud y el número de nulos\n",
        "display(len(X))\n",
        "display(X.isna().sum())"
      ],
      "execution_count": null,
      "outputs": []
    },
    {
      "cell_type": "code",
      "metadata": {
        "id": "klxxlvUtqUVt"
      },
      "source": [
        "# Inicializo un árbol\n",
        "arbolito = tree.DecisionTreeRegressor(max_depth=3)\n",
        "# Entreno el árbol\n",
        "arbolito = arbolito.fit(X=X, y=y)\n",
        "# Uso el árbol para predecir y\n",
        "pred_arbolito = arbolito.predict(X)\n",
        "# Cómo de buena es la predicción?\n",
        "mean_squared_error(y, pred_arbolito, squared=False)"
      ],
      "execution_count": null,
      "outputs": []
    },
    {
      "cell_type": "code",
      "metadata": {
        "id": "vUnkQlkoulkz"
      },
      "source": [
        "# Con el método export_text en un print()\n",
        "esquema_print = tree.export_text(arbolito, \n",
        "                                 feature_names=list(X.columns))\n",
        "print(esquema_print)"
      ],
      "execution_count": null,
      "outputs": []
    },
    {
      "cell_type": "markdown",
      "metadata": {
        "id": "5ol6Dvnfur73"
      },
      "source": [
        "#### Modelo 2\n",
        "Rellenamos los nulos con 0s."
      ]
    },
    {
      "cell_type": "code",
      "metadata": {
        "id": "XQzQ0Htmur73"
      },
      "source": [
        "# Genera las variables X e Y\n",
        "cols =  ['age', 'Medu', 'Fedu', 'traveltime', 'studytime', 'failures', 'famrel', \n",
        "         'freetime', 'goout', 'Dalc', 'Walc', 'health', 'absences']\n",
        "X = df_2.loc[:, cols]\n",
        "X[cols] = X[cols].fillna(0)\n",
        "y = df_2['G3']\n",
        "\n",
        "# Visualiza la longitud y el número de nulos\n",
        "display(len(X))\n",
        "display(X.isna().sum())"
      ],
      "execution_count": null,
      "outputs": []
    },
    {
      "cell_type": "code",
      "metadata": {
        "id": "DZ3WlWudur74"
      },
      "source": [
        "# Inicializo un árbol\n",
        "arbolito = tree.DecisionTreeRegressor(max_depth=4)\n",
        "# Entreno el árbol\n",
        "arbolito = arbolito.fit(X=X, y=y)\n",
        "# Uso el árbol para predecir y\n",
        "pred_arbolito = arbolito.predict(X)\n",
        "# Cómo de buena es la predicción?\n",
        "mean_squared_error(y, pred_arbolito, squared=False)"
      ],
      "execution_count": null,
      "outputs": []
    },
    {
      "cell_type": "code",
      "metadata": {
        "id": "2JOf2IL3ur74"
      },
      "source": [
        "# Con el método export_text en un print()\n",
        "esquema_print = tree.export_text(arbolito, \n",
        "                                 feature_names=list(X.columns))\n",
        "print(esquema_print)"
      ],
      "execution_count": null,
      "outputs": []
    },
    {
      "cell_type": "markdown",
      "metadata": {
        "id": "YUoakiXUvJzp"
      },
      "source": [
        "#### Modelo 3\n",
        "Rellenamos los nulos."
      ]
    },
    {
      "cell_type": "code",
      "metadata": {
        "id": "Y81YrOwHvl8b"
      },
      "source": [
        "# Genera las variables X e Y\n",
        "cols =  ['age', 'Medu', 'Fedu', 'traveltime', 'studytime', 'failures', 'famrel', \n",
        "         'freetime', 'goout', 'Dalc', 'Walc', 'health', 'absences']\n",
        "X = df_2.loc[:, cols]\n",
        "for col in cols:\n",
        "  X[col] = X[col].fillna(X[col].mean())\n",
        "y = df_2['G3']"
      ],
      "execution_count": null,
      "outputs": []
    },
    {
      "cell_type": "code",
      "metadata": {
        "id": "I39B40npvJzu"
      },
      "source": [
        "# Inicializo un árbol\n",
        "arbolito = tree.DecisionTreeRegressor(max_depth=4)\n",
        "# Entreno el árbol\n",
        "arbolito = arbolito.fit(X=X, y=y)\n",
        "# Uso el árbol para predecir y\n",
        "pred_arbolito = arbolito.predict(X)\n",
        "# Cómo de buena es la predicción?\n",
        "mean_squared_error(y, pred_arbolito, squared=False)"
      ],
      "execution_count": null,
      "outputs": []
    },
    {
      "cell_type": "code",
      "metadata": {
        "id": "zLBf8AdGvJzv"
      },
      "source": [
        "# Con el método export_text en un print()\n",
        "esquema_print = tree.export_text(arbolito, \n",
        "                                 feature_names=list(X.columns))\n",
        "print(esquema_print)"
      ],
      "execution_count": null,
      "outputs": []
    },
    {
      "cell_type": "markdown",
      "metadata": {
        "id": "FBiApGMl3eHN"
      },
      "source": [
        "## 0302 Dumificación vars categóricas"
      ]
    },
    {
      "cell_type": "markdown",
      "metadata": {
        "id": "_XJZv6FU3nTT"
      },
      "source": [
        "### 030201 Qué pasa cuando hay vars categóricas"
      ]
    },
    {
      "cell_type": "code",
      "metadata": {
        "id": "iOV5aUIZ3cNg"
      },
      "source": [
        "df_2[['school', 'sex', 'Mjob', 'G3']].head()"
      ],
      "execution_count": null,
      "outputs": []
    },
    {
      "cell_type": "code",
      "metadata": {
        "id": "m8GD170U39NF"
      },
      "source": [
        "X = df_2[['school','sex', 'Mjob']]\n",
        "y = df_2['G3']\n",
        "\n",
        "display(len(X))\n",
        "display(X.isna().sum())"
      ],
      "execution_count": null,
      "outputs": []
    },
    {
      "cell_type": "code",
      "metadata": {
        "id": "FPsu4YLZ6G57"
      },
      "source": [
        "# Inicializo un árbol\n",
        "arbolito = tree.DecisionTreeRegressor(max_depth=3)\n",
        "# Entreno el árbol\n",
        "arbolito = arbolito.fit(X=X, y=y)\n",
        "# Uso el árbol para predecir y\n",
        "pred_arbolito = arbolito.predict(X)\n",
        "# Cómo de buena es la predicción?\n",
        "mean_squared_error(y, pred_arbolito, squared=False)"
      ],
      "execution_count": null,
      "outputs": []
    },
    {
      "cell_type": "markdown",
      "metadata": {
        "id": "5_Gc2bPg6OJR"
      },
      "source": [
        "### 030202 Dumificación\n",
        "Utilizando la función [.get_dummies()](https://pandas.pydata.org/pandas-docs/stable/reference/api/pandas.get_dummies.html)."
      ]
    },
    {
      "cell_type": "code",
      "metadata": {
        "id": "mCL9x_fg6bHw"
      },
      "source": [
        "X.head()"
      ],
      "execution_count": null,
      "outputs": []
    },
    {
      "cell_type": "code",
      "metadata": {
        "id": "tW36P8sD4C5e"
      },
      "source": [
        "pd.get_dummies(X, prefix_sep='_').head()"
      ],
      "execution_count": null,
      "outputs": []
    },
    {
      "cell_type": "code",
      "metadata": {
        "id": "-kSDr8go4c9x"
      },
      "source": [
        "pd.get_dummies(X, prefix_sep='__', dummy_na=True).head()"
      ],
      "execution_count": null,
      "outputs": []
    },
    {
      "cell_type": "code",
      "metadata": {
        "id": "qO__ze7q4z2P"
      },
      "source": [
        "pd.get_dummies(X, prefix_sep='_', drop_first=True).head()"
      ],
      "execution_count": null,
      "outputs": []
    },
    {
      "cell_type": "code",
      "metadata": {
        "id": "Lxk4AqrW5tPK"
      },
      "source": [
        "pd.get_dummies(X, prefix_sep='_', drop_first=True, columns=['school']).head()"
      ],
      "execution_count": null,
      "outputs": []
    },
    {
      "cell_type": "code",
      "metadata": {
        "id": "fAUKAlYr54nQ"
      },
      "source": [
        "X = pd.get_dummies(df_2[['school','sex', 'Mjob']], \n",
        "                   prefix_sep='_', \n",
        "                   drop_first=True)\n",
        "y = df_2['G3']\n",
        "\n",
        "display(len(X))\n",
        "display(X.isna().sum())"
      ],
      "execution_count": null,
      "outputs": []
    },
    {
      "cell_type": "code",
      "metadata": {
        "id": "PI1Zf1iX7UeL"
      },
      "source": [
        "# Inicializo un árbol\n",
        "arbolito = tree.DecisionTreeRegressor(max_depth=4)\n",
        "# Entreno el árbol\n",
        "arbolito = arbolito.fit(X=X, y=y)\n",
        "# Uso el árbol para predecir y\n",
        "pred_arbolito = arbolito.predict(X)\n",
        "# Cómo de buena es la predicción?\n",
        "mean_squared_error(y, pred_arbolito, squared=False)"
      ],
      "execution_count": null,
      "outputs": []
    },
    {
      "cell_type": "code",
      "metadata": {
        "id": "Xo3X-2ou7jvV"
      },
      "source": [
        "# Con el método export_text en un print()\n",
        "esquema_print = tree.export_text(arbolito, \n",
        "                                 feature_names=list(X.columns))\n",
        "print(esquema_print)"
      ],
      "execution_count": null,
      "outputs": []
    },
    {
      "cell_type": "markdown",
      "metadata": {
        "id": "Veq9drco735k"
      },
      "source": [
        "# 04 Ejercicio\n",
        "Utilizando df_2 (la versión del dataset con nulos), crea un modelo que prediga 'G3' utilizando las variables predictivas:\n",
        "\n",
        "['school', 'sex', 'age', 'famsize', 'Pstatus', 'Medu', 'Fedu', 'Mjob', 'Fjob', 'studytime', 'failures', 'schoolsup', 'health', 'absences']\n",
        "\n",
        "Deberás tratar las variables categóricas y los nulos. Obtén la predicción, su calidad, y visualiza el árbol.\n",
        "\n"
      ]
    },
    {
      "cell_type": "code",
      "metadata": {
        "id": "6KIx7TJY9OS7"
      },
      "source": [
        "df_2[['school',  'Mjob', 'age']].head()"
      ],
      "execution_count": null,
      "outputs": []
    },
    {
      "cell_type": "code",
      "metadata": {
        "id": "4DQGU2m_7rMp"
      },
      "source": [
        "# Fíjate en lo que hace esto:\n",
        "pd.get_dummies(df_2[['school',  'Mjob', 'age']], \n",
        "               prefix_sep='_', \n",
        "               drop_first=True, \n",
        "               columns=['school', 'Mjob'])"
      ],
      "execution_count": null,
      "outputs": []
    },
    {
      "cell_type": "code",
      "metadata": {
        "id": "3ZlCFF8b9dT8"
      },
      "source": [
        "# cols\n",
        "cols = ['school', 'sex', 'age', 'famsize', 'Pstatus', 'Medu', 'Fedu', \n",
        "        'Mjob', 'Fjob', 'studytime', 'failures', 'schoolsup', 'health', \n",
        "        'absences']\n",
        "df_2[cols].head()"
      ],
      "execution_count": null,
      "outputs": []
    },
    {
      "cell_type": "code",
      "metadata": {
        "id": "dYHznxWJ8Wyt"
      },
      "source": [
        "# Dumifica las variables categóricas\n",
        "X = pd.get_dummies(df_2[cols], \n",
        "                   prefix_sep='_', \n",
        "                   drop_first=True, \n",
        "                   columns=['school', 'sex', 'famsize', 'Pstatus', 'Mjob', \n",
        "                            'Fjob', 'schoolsup'])\n",
        "y = df_2['G3']\n",
        "\n",
        "display(len(X))\n",
        "display(X.isna().sum())"
      ],
      "execution_count": null,
      "outputs": []
    },
    {
      "cell_type": "code",
      "metadata": {
        "id": "8rGwou9_-OkE"
      },
      "source": [
        "# Limpiamos los nulos\n",
        "for col in X.columns:\n",
        "  X[col] = X[col].fillna(X[col].mean())\n",
        "\n",
        "display(len(X))\n",
        "display(X.isna().sum())"
      ],
      "execution_count": null,
      "outputs": []
    },
    {
      "cell_type": "code",
      "metadata": {
        "id": "Xghb0BSU-kd4"
      },
      "source": [
        "# Inicializo un árbol\n",
        "arbolito = tree.DecisionTreeRegressor(max_depth=4)\n",
        "# Entreno el árbol\n",
        "arbolito = arbolito.fit(X=X, y=y)\n",
        "# Uso el árbol para predecir y\n",
        "pred_arbolito = arbolito.predict(X)\n",
        "# Cómo de buena es la predicción?\n",
        "mean_squared_error(y, pred_arbolito, squared=False)"
      ],
      "execution_count": null,
      "outputs": []
    },
    {
      "cell_type": "code",
      "metadata": {
        "id": "34udHBlC--I2"
      },
      "source": [
        "# Con el método export_text en un print()\n",
        "esquema_print = tree.export_text(arbolito, \n",
        "                                 feature_names=list(X.columns))\n",
        "print(esquema_print)"
      ],
      "execution_count": null,
      "outputs": []
    },
    {
      "cell_type": "code",
      "metadata": {
        "id": "8SZFkA-j_CGv"
      },
      "source": [
        ""
      ],
      "execution_count": null,
      "outputs": []
    }
  ]
}